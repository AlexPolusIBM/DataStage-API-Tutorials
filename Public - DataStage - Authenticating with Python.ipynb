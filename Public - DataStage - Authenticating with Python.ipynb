{
 "cells": [
  {
   "cell_type": "markdown",
   "id": "011b827a",
   "metadata": {},
   "source": [
    "# Getting Started with DataStage: Authenticating"
   ]
  },
  {
   "cell_type": "markdown",
   "id": "11f39f16",
   "metadata": {},
   "source": [
    "<div>\n",
    "<img src=\"./datastage-icon.svg\" width=\"300\" align=\"Left\"/>\n",
    "</div>"
   ]
  },
  {
   "cell_type": "markdown",
   "id": "b7a7f06a",
   "metadata": {},
   "source": [
    "\n",
    "\n",
    "Estimated time needed: **15** minutes\n",
    "\n",
    "## Objectives\n",
    "\n",
    "After completing this lab you will be able to:\n",
    "\n",
    "*   Authenticate with DataStage using IBM Cloud\n",
    "*   Create a DataStage Service Instance\n",
    "*   List your project's flows to verify service connection"
   ]
  },
  {
   "cell_type": "markdown",
   "id": "cb69baae",
   "metadata": {},
   "source": [
    "**Verify Installation of DataStage for Python 3.x**:"
   ]
  },
  {
   "cell_type": "code",
   "execution_count": null,
   "id": "437fb1ee",
   "metadata": {},
   "outputs": [],
   "source": [
    "!pip3 install --upgrade \"datastage>=0.0.1\""
   ]
  },
  {
   "cell_type": "markdown",
   "id": "52c03c88",
   "metadata": {},
   "source": [
    "## Authenticating with DataStage through IBM Cloud"
   ]
  },
  {
   "cell_type": "markdown",
   "id": "700c01e6",
   "metadata": {},
   "source": [
    "The datastage library is built on top of IBM's Cloud SDK, which looks to environment variables to provide the necessary values for authentication. By setting your authorization type, api key, datastage url, authorization url, and your project id all as environment variables, you can directly run datastage commands and the SDK will handle authentication in the background."
   ]
  },
  {
   "cell_type": "code",
   "execution_count": null,
   "id": "08cdc056",
   "metadata": {},
   "outputs": [],
   "source": [
    "# import os before we get started\n",
    "import os"
   ]
  },
  {
   "cell_type": "markdown",
   "id": "4f51805b",
   "metadata": {},
   "source": [
    "#### 1) View your current environment variables:\n",
    "Running this cell will output a list of all current environment variables on your system."
   ]
  },
  {
   "cell_type": "code",
   "execution_count": null,
   "id": "ddddeb47",
   "metadata": {},
   "outputs": [],
   "source": [
    "os.environ"
   ]
  },
  {
   "cell_type": "markdown",
   "id": "7ad3c4d4",
   "metadata": {},
   "source": [
    "#### 2) Set the necessary environment variables either (a) explicitly or (b) using a credentials file\n",
    "Doing so will allow the DataStage API to reference environment variables for authentication."
   ]
  },
  {
   "cell_type": "markdown",
   "id": "c256e55e",
   "metadata": {},
   "source": [
    ">(a) Explicitly declare environment variables"
   ]
  },
  {
   "cell_type": "code",
   "execution_count": null,
   "id": "3a515641",
   "metadata": {},
   "outputs": [],
   "source": [
    "# Insert your API key below and run this cell to set environment variables explicitly\n",
    "os.environ['DATASTAGE_APIKEY'] = 'YOUR_API_KEY'\n",
    "# the three variables below are the same for all users using iam authentication\n",
    "os.environ['DATASTAGE_AUTH_TYPE']='iam'\n",
    "os.environ['DATASTAGE_URL']='https://api.dataplatform.cloud.ibm.com/data_intg'\n",
    "os.environ['DATASTAGE_AUTH_URL'] = 'https://iam.cloud.ibm.com/identity/token'"
   ]
  },
  {
   "cell_type": "markdown",
   "id": "f95e80d3",
   "metadata": {},
   "source": [
    ">(b) Declare environment variables in a credentials file"
   ]
  },
  {
   "cell_type": "markdown",
   "id": "b5e8adb6",
   "metadata": {},
   "source": [
    "If you'd prefer to store your authentication information in a credentials file, create a file in your working directory titled 'credentials.env', then copy and paste the following lines into credentials.env after replacing the placeholder with your api key:"
   ]
  },
  {
   "cell_type": "markdown",
   "id": "2066bedf",
   "metadata": {},
   "source": [
    "DATASTAGE_APIKEY=YOUR_API_KEY\n",
    "DATASTAGE_AUTH_TYPE=iam\n",
    "DATASTAGE_URL=https://api.dataplatform.cloud.ibm.com/data_intg\n",
    "DATASTAGE_AUTH_URL=https://iam.cloud.ibm.com/identity/token"
   ]
  },
  {
   "cell_type": "markdown",
   "id": "73616f11",
   "metadata": {},
   "source": [
    "To load the contents of the credentials file, uncomment the following two lines and run the cell:"
   ]
  },
  {
   "cell_type": "code",
   "execution_count": null,
   "id": "c30fc168",
   "metadata": {},
   "outputs": [],
   "source": [
    "#filename = 'credentials.env'\n",
    "#os.environ['IBM_CREDENTIALS_FILE'] = filename"
   ]
  },
  {
   "cell_type": "markdown",
   "id": "228a1aee",
   "metadata": {},
   "source": [
    "#### 3) Declare your project ID environment variable"
   ]
  },
  {
   "cell_type": "markdown",
   "id": "f64977c4",
   "metadata": {},
   "source": [
    "To find your project ID, visit https://dataplatform.cloud.ibm.com/ where you can:\n",
    "\n",
    "i. Log in to your Cloud Pak for Data account\\\n",
    "ii. Click on 'Projects' under 'Quick Navigation' on the left side of the screen\\\n",
    "iii. Select an existing project, or create a project from scratch\\\n",
    "iv. Once you're in a project, copy the link from your browser (like the one below) into the project_dashboard_url variable in the next cell\n",
    "\n",
    ">Example project dashboard link: https://dataplatform.cloud.ibm.com/projects/68c271ee-a23d-4a7c-bef2-8c5f6b495d67/overview?context=cpdaas (do not use)"
   ]
  },
  {
   "cell_type": "code",
   "execution_count": null,
   "id": "b9a5c072",
   "metadata": {},
   "outputs": [],
   "source": [
    "# copy project dashboard link here\n",
    "project_dashboard_url = '<link to the dashboard of the project you are working on>'"
   ]
  },
  {
   "cell_type": "code",
   "execution_count": null,
   "id": "aad2a035",
   "metadata": {},
   "outputs": [],
   "source": [
    "from urllib.parse import urlparse\n",
    "\n",
    "#parse the url\n",
    "parsed_url = urlparse(project_dashboard_url)\n",
    "#extract the project id from the url's path\n",
    "project_id = parsed_url.path.split(sep='/')[2]\n",
    "\n",
    "print(\"Your Project ID:\", project_id)"
   ]
  },
  {
   "cell_type": "markdown",
   "id": "b676bd0b",
   "metadata": {},
   "source": [
    "Now, you can explicity declare the project ID's environment variable:"
   ]
  },
  {
   "cell_type": "code",
   "execution_count": null,
   "id": "577eb446",
   "metadata": {},
   "outputs": [],
   "source": [
    "#explicitly declare your project ID as an environment variable\n",
    "os.environ['DATASTAGE_PROJECT_ID'] = project_id"
   ]
  },
  {
   "cell_type": "markdown",
   "id": "6586bd86",
   "metadata": {},
   "source": [
    "#### 4) Verify Your Authentication Variables\n",
    "Check the output of the following command to verify that the datastage authentication variables (or the name of your credentials file) were/was added to your environment:"
   ]
  },
  {
   "cell_type": "code",
   "execution_count": null,
   "id": "3988e8fc",
   "metadata": {},
   "outputs": [],
   "source": [
    "os.environ"
   ]
  },
  {
   "cell_type": "markdown",
   "id": "b3f5a1fe",
   "metadata": {},
   "source": [
    "## Create a service instance"
   ]
  },
  {
   "cell_type": "markdown",
   "id": "6a109445",
   "metadata": {},
   "source": [
    "Pass the service name 'DATASTAGE' as an argument to DatastageV3.new_instance() so the service can properly find the environment variables corresponding to your DataStage service"
   ]
  },
  {
   "cell_type": "code",
   "execution_count": null,
   "id": "947c2e2a",
   "metadata": {},
   "outputs": [],
   "source": [
    "import os\n",
    "from datastage.datastage_v3 import *\n",
    "\n",
    "service_name = 'DATASTAGE'\n",
    "\n",
    "#create a datastage instance\n",
    "#this will automatically reference your credentials from the environment\n",
    "datastage_service = DatastageV3.new_instance(service_name)\n",
    "\n",
    "#check if the instance was created properly\n",
    "if datastage_service is not None:\n",
    "    print(\"DataStage Client Instance Created\\n\")\n",
    "    print(\"Your DataStage service is ready for use\")\n",
    "else: \n",
    "    print(\"Error creating DataStage client - make sure to set your environment variables for authentication and provide a service name when calling a new instance\")"
   ]
  },
  {
   "cell_type": "markdown",
   "id": "1160a060",
   "metadata": {},
   "source": [
    "## Get a list your project flows to verify DataStage service connection\n",
    "Use DataStage's *list_datastage_flows()* function to list your projects flows. Make sure to explicityly assign the project_id argument to your project's ID as done below, and select a limit for the number of flows to return (the limit of 100 was selected arbitrarily). \n",
    "\n",
    "The try/except block is present so that if the connection is aborted from having this notebook open too long, \n",
    "the exception will run the code again which will re-establish connection"
   ]
  },
  {
   "cell_type": "code",
   "execution_count": null,
   "id": "23a65aeb",
   "metadata": {
    "scrolled": true
   },
   "outputs": [],
   "source": [
    "#attempt to list datastage flows\n",
    "try:\n",
    "    project_flows = datastage_service.list_datastage_flows(\n",
    "        project_id=os.environ['DATASTAGE_PROJECT_ID'], limit=100).get_result()\n",
    "#this will re-run if there's a connection error due to a timeout\n",
    "except ConnectionError:\n",
    "    project_flows = datastage_service.list_datastage_flows(\n",
    "        project_id=os.environ['DATASTAGE_PROJECT_ID'], limit=100).get_result()\n",
    "\n",
    "#print your flow's details in a nested json format\n",
    "print(json.dumps(project_flows, indent=2))"
   ]
  },
  {
   "cell_type": "markdown",
   "id": "c6797b61",
   "metadata": {},
   "source": [
    "## Want to learn more?"
   ]
  },
  {
   "cell_type": "markdown",
   "id": "86d1f30a",
   "metadata": {},
   "source": [
    "Check out the DataStage Python API Documentation [here](https://cloud.ibm.com/apidocs/datastage?code=python)\n",
    "\n",
    "Connect with the IBM DataStage Community [here](https://community.ibm.com/community/user/dataops/communities/community-home?CommunityKey=3bfc9f2f-4a5e-470a-9295-4b7cc90c9518)"
   ]
  },
  {
   "cell_type": "markdown",
   "id": "fd8bf4e5",
   "metadata": {},
   "source": [
    "### Thank you for completing this lab!\n",
    "Be on the lookout for more posts in this tutorial series that will cover using the API to manipulate flows & sub flows, a\n",
    "\n",
    "## Author\n",
    "\n",
    "Alexander Polus\n",
    "\n",
    "## Change Log\n",
    "\n",
    "| Date (YYYY-MM-DD) | Version | Changed By | Change Description                 |\n",
    "| ----------------- | ------- | ---------- | ---------------------------------- |\n",
    "|                   |     1.0 |  Alexander |                    Initial Staging |\n",
    "|                   |         |            |                                    |\n",
    "\n",
    "## <h3 align=\"center\"> © IBM Corporation 2021. All rights reserved. <h3/>"
   ]
  }
 ],
 "metadata": {
  "kernelspec": {
   "display_name": "Python 3 (ipykernel)",
   "language": "python",
   "name": "python3"
  },
  "language_info": {
   "codemirror_mode": {
    "name": "ipython",
    "version": 3
   },
   "file_extension": ".py",
   "mimetype": "text/x-python",
   "name": "python",
   "nbconvert_exporter": "python",
   "pygments_lexer": "ipython3",
   "version": "3.9.7"
  }
 },
 "nbformat": 4,
 "nbformat_minor": 5
}
